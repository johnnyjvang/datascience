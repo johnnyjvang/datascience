{
 "cells": [
  {
   "cell_type": "markdown",
   "metadata": {},
   "source": [
    "# homework 3: permutation tests - Vangj"
   ]
  },
  {
   "cell_type": "code",
   "execution_count": 1,
   "metadata": {},
   "outputs": [
    {
     "data": {
      "text/plain": [
       "300"
      ]
     },
     "execution_count": 1,
     "metadata": {},
     "output_type": "execute_result"
    }
   ],
   "source": [
    "using DataFrames\n",
    "using CSV\n",
    "using PyPlot\n",
    "using Random\n",
    "\n",
    "# (optional) change the style. see styles here: https://matplotlib.org/3.1.1/gallery/style_sheets/style_sheets_reference.html\n",
    "PyPlot.matplotlib.style.use(\"bmh\")                                    \n",
    "                                                                                  \n",
    "# (optional) change settings for all plots at once, e.g. I like larger font size                           \n",
    "rcParams = PyPlot.PyDict(PyPlot.matplotlib.rcParams)                           \n",
    "rcParams[\"font.size\"] = 16\n",
    "\n",
    "# (optional) change the max width of columns of `DataFrame`\n",
    "#  that are displayed in the Juptyer Notebook.\n",
    "ENV[\"COLUMNS\"] = 300 # characters"
   ]
  },
  {
   "cell_type": "markdown",
   "metadata": {},
   "source": [
    "### modifying the Cavendish banana to make it more resistant to Panama disease\n",
    "\n",
    "The Cavendish [banana is threatened](https://www.theguardian.com/science/2018/aug/05/science-search-for-a-super-banana-panama-disease-gm-gene-editing) by Panama disease, which is caused by a fungus. An active area of research is to genetically modify the Cavendish banana plant to make it resistant to Panama disease.\n",
    "\n",
    "<img src=https://upload.wikimedia.org/wikipedia/commons/thumb/9/9b/Cavendish_Banana_DS.jpg/1920px-Cavendish_Banana_DS.jpg width=200>\n",
    "\n",
    "In this homework assignment, we have identified a gene in the banana plant, gene X, that is thought to be associated with resistance to fungal infection. Using modern gene editing tools such as CRISPR, we are able to make a precise, single-nucleotide edit to the gene X that appears in the wild. The hope is that this single nucleotide polymorphism will confer protection against fungal infection. \n",
    "\n",
    "To experimentally test whether a certain mutation of gene X will confer greater resistance to Panama disease, we randomly select 60 healthy banana plants from different regions/farms that have not been exposed to the fungus causing Panama disease (all free of Panama disease). Of these 60 plants, we randomly select 30 to receive the genetic mutation on gene X. We then collect one seed from all 60 plants. \n",
    "\n",
    "A botanist then plants each seed in a pot whose soil is known to harbor the fungus that causes Panama disease. The plants are all contained in a single greenhouse. After one year, the botanist records whether or not each grown banana plant has been infected with Panama disease. The study is \"blind\" because we never told the botanist which seeds are modified and which are not. This way, the botanist cannot (advertently or inadvertently) treat the two different variants of plants differently and thereby influence the outcome of the experiment in a biased manner.\n",
    "\n",
    "(1) the results of our randomized experiment are in `banana_study.csv`. each row represents a banana plant. the `:gene_x` attribute indicates whether gene X in the banana plant is the wild type or mutant. the `:outcome` attribute indicates the outcome of the experiment (infected or not infected). read in `banana_study.csv` as a `DataFrame`, `df`."
   ]
  },
  {
   "cell_type": "code",
   "execution_count": 2,
   "metadata": {},
   "outputs": [
    {
     "name": "stdout",
     "output_type": "stream",
     "text": [
      "60"
     ]
    },
    {
     "data": {
      "text/html": [
       "<table class=\"data-frame\"><thead><tr><th></th><th>gene_x</th><th>outcome</th></tr><tr><th></th><th>String</th><th>String</th></tr></thead><tbody><p>5 rows × 2 columns</p><tr><th>1</th><td>wild type</td><td>not infected</td></tr><tr><th>2</th><td>wild type</td><td>infected</td></tr><tr><th>3</th><td>wild type</td><td>not infected</td></tr><tr><th>4</th><td>wild type</td><td>not infected</td></tr><tr><th>5</th><td>wild type</td><td>not infected</td></tr></tbody></table>"
      ],
      "text/latex": [
       "\\begin{tabular}{r|cc}\n",
       "\t& gene\\_x & outcome\\\\\n",
       "\t\\hline\n",
       "\t& String & String\\\\\n",
       "\t\\hline\n",
       "\t1 & wild type & not infected \\\\\n",
       "\t2 & wild type & infected \\\\\n",
       "\t3 & wild type & not infected \\\\\n",
       "\t4 & wild type & not infected \\\\\n",
       "\t5 & wild type & not infected \\\\\n",
       "\\end{tabular}\n"
      ],
      "text/plain": [
       "5×2 DataFrame\n",
       "│ Row │ gene_x    │ outcome      │\n",
       "│     │ \u001b[90mString\u001b[39m    │ \u001b[90mString\u001b[39m       │\n",
       "├─────┼───────────┼──────────────┤\n",
       "│ 1   │ wild type │ not infected │\n",
       "│ 2   │ wild type │ infected     │\n",
       "│ 3   │ wild type │ not infected │\n",
       "│ 4   │ wild type │ not infected │\n",
       "│ 5   │ wild type │ not infected │"
      ]
     },
     "execution_count": 2,
     "metadata": {},
     "output_type": "execute_result"
    }
   ],
   "source": [
    "df = CSV.read(\"banana_study.csv\", copycols=true)\n",
    "print(size(df)[1])\n",
    "first(df,5)"
   ]
  },
  {
   "cell_type": "markdown",
   "metadata": {},
   "source": [
    "(2) use the `by` command to group the banana plants in `df` by genetic variant and create a new `DataFrame`, `df_outcome`, with a new column, `p_infected`, that contains the proportion of plants of that variant that are infected by the fungus.\n",
    "\n",
    "i.e. create a dataframe, `df_outcome`:\n",
    "```\n",
    "     gene_x      p_infected\n",
    "    wild type       ...\n",
    "     mutant         ...\n",
    "```"
   ]
  },
  {
   "cell_type": "code",
   "execution_count": 3,
   "metadata": {
    "scrolled": true
   },
   "outputs": [
    {
     "data": {
      "text/html": [
       "<table class=\"data-frame\"><thead><tr><th></th><th>gene_x</th><th>p_infected</th></tr><tr><th></th><th>String</th><th>Int64</th></tr></thead><tbody><p>2 rows × 2 columns</p><tr><th>1</th><td>wild type</td><td>30</td></tr><tr><th>2</th><td>mutant</td><td>30</td></tr></tbody></table>"
      ],
      "text/latex": [
       "\\begin{tabular}{r|cc}\n",
       "\t& gene\\_x & p\\_infected\\\\\n",
       "\t\\hline\n",
       "\t& String & Int64\\\\\n",
       "\t\\hline\n",
       "\t1 & wild type & 30 \\\\\n",
       "\t2 & mutant & 30 \\\\\n",
       "\\end{tabular}\n"
      ],
      "text/plain": [
       "2×2 DataFrame\n",
       "│ Row │ gene_x    │ p_infected │\n",
       "│     │ \u001b[90mString\u001b[39m    │ \u001b[90mInt64\u001b[39m      │\n",
       "├─────┼───────────┼────────────┤\n",
       "│ 1   │ wild type │ 30         │\n",
       "│ 2   │ mutant    │ 30         │"
      ]
     },
     "execution_count": 3,
     "metadata": {},
     "output_type": "execute_result"
    }
   ],
   "source": [
    "df_outcomes = by(df, :gene_x, p_infected=:gene_x=>length)"
   ]
  },
  {
   "cell_type": "code",
   "execution_count": 4,
   "metadata": {},
   "outputs": [
    {
     "data": {
      "text/plain": [
       "2-element Array{String,1}:\n",
       " \"not infected\"\n",
       " \"infected\"    "
      ]
     },
     "execution_count": 4,
     "metadata": {},
     "output_type": "execute_result"
    }
   ],
   "source": [
    "label = unique(df[!, :gene_x]) # testing purposes \n",
    "label2 = unique(df[!, :outcome]) # testing purposes "
   ]
  },
  {
   "cell_type": "code",
   "execution_count": 5,
   "metadata": {},
   "outputs": [
    {
     "data": {
      "text/html": [
       "<p><b>GroupedDataFrame with 2 groups based on key: gene_x</b></p><p><i>First Group (30 rows): gene_x = \"wild type\"</i></p><table class=\"data-frame\"><thead><tr><th></th><th>gene_x</th><th>outcome</th></tr><tr><th></th><th>String</th><th>String</th></tr></thead><tbody><tr><th>1</th><td>wild type</td><td>not infected</td></tr><tr><th>2</th><td>wild type</td><td>infected</td></tr><tr><th>3</th><td>wild type</td><td>not infected</td></tr><tr><th>4</th><td>wild type</td><td>not infected</td></tr><tr><th>5</th><td>wild type</td><td>not infected</td></tr><tr><th>6</th><td>wild type</td><td>not infected</td></tr><tr><th>7</th><td>wild type</td><td>infected</td></tr><tr><th>8</th><td>wild type</td><td>infected</td></tr><tr><th>9</th><td>wild type</td><td>not infected</td></tr><tr><th>10</th><td>wild type</td><td>not infected</td></tr><tr><th>11</th><td>wild type</td><td>not infected</td></tr><tr><th>12</th><td>wild type</td><td>not infected</td></tr><tr><th>13</th><td>wild type</td><td>not infected</td></tr><tr><th>14</th><td>wild type</td><td>not infected</td></tr><tr><th>15</th><td>wild type</td><td>not infected</td></tr><tr><th>16</th><td>wild type</td><td>not infected</td></tr><tr><th>17</th><td>wild type</td><td>not infected</td></tr><tr><th>18</th><td>wild type</td><td>not infected</td></tr><tr><th>19</th><td>wild type</td><td>infected</td></tr><tr><th>20</th><td>wild type</td><td>not infected</td></tr><tr><th>21</th><td>wild type</td><td>not infected</td></tr><tr><th>22</th><td>wild type</td><td>not infected</td></tr><tr><th>23</th><td>wild type</td><td>not infected</td></tr><tr><th>24</th><td>wild type</td><td>not infected</td></tr><tr><th>25</th><td>wild type</td><td>not infected</td></tr><tr><th>26</th><td>wild type</td><td>not infected</td></tr><tr><th>27</th><td>wild type</td><td>not infected</td></tr><tr><th>28</th><td>wild type</td><td>not infected</td></tr><tr><th>29</th><td>wild type</td><td>not infected</td></tr><tr><th>30</th><td>wild type</td><td>not infected</td></tr></tbody></table><p>&vellip;</p><p><i>Last Group (30 rows): gene_x = \"mutant\"</i></p><table class=\"data-frame\"><thead><tr><th></th><th>gene_x</th><th>outcome</th></tr><tr><th></th><th>String</th><th>String</th></tr></thead><tbody><tr><th>1</th><td>mutant</td><td>not infected</td></tr><tr><th>2</th><td>mutant</td><td>not infected</td></tr><tr><th>3</th><td>mutant</td><td>not infected</td></tr><tr><th>4</th><td>mutant</td><td>infected</td></tr><tr><th>5</th><td>mutant</td><td>not infected</td></tr><tr><th>6</th><td>mutant</td><td>not infected</td></tr><tr><th>7</th><td>mutant</td><td>not infected</td></tr><tr><th>8</th><td>mutant</td><td>infected</td></tr><tr><th>9</th><td>mutant</td><td>not infected</td></tr><tr><th>10</th><td>mutant</td><td>infected</td></tr><tr><th>11</th><td>mutant</td><td>infected</td></tr><tr><th>12</th><td>mutant</td><td>not infected</td></tr><tr><th>13</th><td>mutant</td><td>not infected</td></tr><tr><th>14</th><td>mutant</td><td>not infected</td></tr><tr><th>15</th><td>mutant</td><td>not infected</td></tr><tr><th>16</th><td>mutant</td><td>infected</td></tr><tr><th>17</th><td>mutant</td><td>not infected</td></tr><tr><th>18</th><td>mutant</td><td>infected</td></tr><tr><th>19</th><td>mutant</td><td>not infected</td></tr><tr><th>20</th><td>mutant</td><td>not infected</td></tr><tr><th>21</th><td>mutant</td><td>not infected</td></tr><tr><th>22</th><td>mutant</td><td>infected</td></tr><tr><th>23</th><td>mutant</td><td>not infected</td></tr><tr><th>24</th><td>mutant</td><td>infected</td></tr><tr><th>25</th><td>mutant</td><td>not infected</td></tr><tr><th>26</th><td>mutant</td><td>not infected</td></tr><tr><th>27</th><td>mutant</td><td>not infected</td></tr><tr><th>28</th><td>mutant</td><td>not infected</td></tr><tr><th>29</th><td>mutant</td><td>infected</td></tr><tr><th>30</th><td>mutant</td><td>not infected</td></tr></tbody></table>"
      ],
      "text/latex": [
       "GroupedDataFrame with 2 groups based on key: gene\\_x\n",
       "\n",
       "First Group (30 rows): gene\\_x = \"wild type\"\n",
       "\n",
       "\\begin{tabular}{r|cc}\n",
       "\t& gene\\_x & outcome\\\\\n",
       "\t\\hline\n",
       "\t& String & String\\\\\n",
       "\t\\hline\n",
       "\t1 & wild type & not infected \\\\\n",
       "\t2 & wild type & infected \\\\\n",
       "\t3 & wild type & not infected \\\\\n",
       "\t4 & wild type & not infected \\\\\n",
       "\t5 & wild type & not infected \\\\\n",
       "\t6 & wild type & not infected \\\\\n",
       "\t7 & wild type & infected \\\\\n",
       "\t8 & wild type & infected \\\\\n",
       "\t9 & wild type & not infected \\\\\n",
       "\t10 & wild type & not infected \\\\\n",
       "\t11 & wild type & not infected \\\\\n",
       "\t12 & wild type & not infected \\\\\n",
       "\t13 & wild type & not infected \\\\\n",
       "\t14 & wild type & not infected \\\\\n",
       "\t15 & wild type & not infected \\\\\n",
       "\t16 & wild type & not infected \\\\\n",
       "\t17 & wild type & not infected \\\\\n",
       "\t18 & wild type & not infected \\\\\n",
       "\t19 & wild type & infected \\\\\n",
       "\t20 & wild type & not infected \\\\\n",
       "\t21 & wild type & not infected \\\\\n",
       "\t22 & wild type & not infected \\\\\n",
       "\t23 & wild type & not infected \\\\\n",
       "\t24 & wild type & not infected \\\\\n",
       "\t25 & wild type & not infected \\\\\n",
       "\t26 & wild type & not infected \\\\\n",
       "\t27 & wild type & not infected \\\\\n",
       "\t28 & wild type & not infected \\\\\n",
       "\t29 & wild type & not infected \\\\\n",
       "\t30 & wild type & not infected \\\\\n",
       "\\end{tabular}\n",
       "\n",
       "$\\dots$\n",
       "\n",
       "Last Group (30 rows): gene\\_x = \"mutant\"\n",
       "\n",
       "\\begin{tabular}{r|cc}\n",
       "\t& gene\\_x & outcome\\\\\n",
       "\t\\hline\n",
       "\t& String & String\\\\\n",
       "\t\\hline\n",
       "\t1 & mutant & not infected \\\\\n",
       "\t2 & mutant & not infected \\\\\n",
       "\t3 & mutant & not infected \\\\\n",
       "\t4 & mutant & infected \\\\\n",
       "\t5 & mutant & not infected \\\\\n",
       "\t6 & mutant & not infected \\\\\n",
       "\t7 & mutant & not infected \\\\\n",
       "\t8 & mutant & infected \\\\\n",
       "\t9 & mutant & not infected \\\\\n",
       "\t10 & mutant & infected \\\\\n",
       "\t11 & mutant & infected \\\\\n",
       "\t12 & mutant & not infected \\\\\n",
       "\t13 & mutant & not infected \\\\\n",
       "\t14 & mutant & not infected \\\\\n",
       "\t15 & mutant & not infected \\\\\n",
       "\t16 & mutant & infected \\\\\n",
       "\t17 & mutant & not infected \\\\\n",
       "\t18 & mutant & infected \\\\\n",
       "\t19 & mutant & not infected \\\\\n",
       "\t20 & mutant & not infected \\\\\n",
       "\t21 & mutant & not infected \\\\\n",
       "\t22 & mutant & infected \\\\\n",
       "\t23 & mutant & not infected \\\\\n",
       "\t24 & mutant & infected \\\\\n",
       "\t25 & mutant & not infected \\\\\n",
       "\t26 & mutant & not infected \\\\\n",
       "\t27 & mutant & not infected \\\\\n",
       "\t28 & mutant & not infected \\\\\n",
       "\t29 & mutant & infected \\\\\n",
       "\t30 & mutant & not infected \\\\\n",
       "\\end{tabular}\n"
      ],
      "text/plain": [
       "GroupedDataFrame with 2 groups based on key: gene_x\n",
       "First Group (30 rows): gene_x = \"wild type\"\n",
       "│ Row │ gene_x    │ outcome      │\n",
       "│     │ \u001b[90mString\u001b[39m    │ \u001b[90mString\u001b[39m       │\n",
       "├─────┼───────────┼──────────────┤\n",
       "│ 1   │ wild type │ not infected │\n",
       "│ 2   │ wild type │ infected     │\n",
       "│ 3   │ wild type │ not infected │\n",
       "│ 4   │ wild type │ not infected │\n",
       "│ 5   │ wild type │ not infected │\n",
       "│ 6   │ wild type │ not infected │\n",
       "│ 7   │ wild type │ infected     │\n",
       "│ 8   │ wild type │ infected     │\n",
       "│ 9   │ wild type │ not infected │\n",
       "│ 10  │ wild type │ not infected │\n",
       "⋮\n",
       "│ 20  │ wild type │ not infected │\n",
       "│ 21  │ wild type │ not infected │\n",
       "│ 22  │ wild type │ not infected │\n",
       "│ 23  │ wild type │ not infected │\n",
       "│ 24  │ wild type │ not infected │\n",
       "│ 25  │ wild type │ not infected │\n",
       "│ 26  │ wild type │ not infected │\n",
       "│ 27  │ wild type │ not infected │\n",
       "│ 28  │ wild type │ not infected │\n",
       "│ 29  │ wild type │ not infected │\n",
       "│ 30  │ wild type │ not infected │\n",
       "⋮\n",
       "Last Group (30 rows): gene_x = \"mutant\"\n",
       "│ Row │ gene_x │ outcome      │\n",
       "│     │ \u001b[90mString\u001b[39m │ \u001b[90mString\u001b[39m       │\n",
       "├─────┼────────┼──────────────┤\n",
       "│ 1   │ mutant │ not infected │\n",
       "│ 2   │ mutant │ not infected │\n",
       "│ 3   │ mutant │ not infected │\n",
       "│ 4   │ mutant │ infected     │\n",
       "│ 5   │ mutant │ not infected │\n",
       "│ 6   │ mutant │ not infected │\n",
       "│ 7   │ mutant │ not infected │\n",
       "│ 8   │ mutant │ infected     │\n",
       "│ 9   │ mutant │ not infected │\n",
       "│ 10  │ mutant │ infected     │\n",
       "⋮\n",
       "│ 20  │ mutant │ not infected │\n",
       "│ 21  │ mutant │ not infected │\n",
       "│ 22  │ mutant │ infected     │\n",
       "│ 23  │ mutant │ not infected │\n",
       "│ 24  │ mutant │ infected     │\n",
       "│ 25  │ mutant │ not infected │\n",
       "│ 26  │ mutant │ not infected │\n",
       "│ 27  │ mutant │ not infected │\n",
       "│ 28  │ mutant │ not infected │\n",
       "│ 29  │ mutant │ infected     │\n",
       "│ 30  │ mutant │ not infected │"
      ]
     },
     "execution_count": 5,
     "metadata": {},
     "output_type": "execute_result"
    }
   ],
   "source": [
    "df_g = groupby(df, :gene_x) # testing purposes \n",
    "# df_g[1, :gene_x]\n",
    "# size(df_g[2])[1]\n",
    "# size(df_g[!, :gene_x])"
   ]
  },
  {
   "cell_type": "code",
   "execution_count": 6,
   "metadata": {},
   "outputs": [
    {
     "name": "stdout",
     "output_type": "stream",
     "text": [
      "For the group: wild type\n",
      "infected: 4\n",
      "not infected: 26\n",
      "For the group: mutant\n",
      "infected: 9\n",
      "not infected: 21\n"
     ]
    }
   ],
   "source": [
    "p_groups = groupby(df, :outcome)  # 2 groups by \"not infected\" and \"infected\"\n",
    "# setting up list of infected and not infected \n",
    "infected_list = []\n",
    "not_infected_list =[]\n",
    "for df_g in groupby(df, :gene_x)\n",
    "    groub = df_g[1, :gene_x]\n",
    "    infected = 0\n",
    "    not_infected = 0\n",
    "    for i in 1:length(df_g[!, :gene_x])\n",
    "        testing = df_g[i, :outcome]\n",
    "        if testing == \"not infected\"\n",
    "            not_infected +=1\n",
    "        else\n",
    "            infected += 1\n",
    "        end\n",
    "    end\n",
    "    push!(infected_list, infected)\n",
    "    push!(not_infected_list, not_infected)\n",
    "    println(\"For the group: \", groub)\n",
    "    println(\"infected: \", infected)\n",
    "    println(\"not infected: \", not_infected)\n",
    "end"
   ]
  },
  {
   "cell_type": "code",
   "execution_count": 7,
   "metadata": {},
   "outputs": [
    {
     "name": "stdout",
     "output_type": "stream",
     "text": [
      "The Banana Group: wild type\n",
      "the percentage infected is: 0.13333333333333333\n",
      "the percentage not-infected is: 0.8666666666666667\n",
      "The Banana Group: mutant\n",
      "the percentage infected is: 0.3\n",
      "the percentage not-infected is: 0.7\n"
     ]
    }
   ],
   "source": [
    "# Code determines the percentage of infected and not infected for both banana groups \n",
    "\n",
    "p_infected = [NaN for s = 1:length(infected_list)]\n",
    "p_not_infected = [NaN for s = 1:length(infected_list)]\n",
    "for i in 1:length(infected_list)\n",
    "    p_infected[i] = infected_list[i]/size(df_g[1])[1]\n",
    "    p_not_infected[i] = not_infected_list[i]/size(df_g[1])[1]\n",
    "    println(\"The Banana Group: \", label[i])\n",
    "    println(\"the percentage infected is: \", p_infected[i])\n",
    "    println(\"the percentage not-infected is: \", p_not_infected[i])\n",
    "end"
   ]
  },
  {
   "cell_type": "markdown",
   "metadata": {},
   "source": [
    "(3) create a data visualization representing `df_outcome`. particularly, make a bar plot with two bars, one corresponding to wild type, the other to mutant. Then make the bar heights equal to the respective proportion of banana plants of that genetic variant that were infected by the fungus. With a different color, stack a bar *on top* of these bars to represent the proportion that were not infected. The total height of each bar (sum of the two bars of different colors, stacked on top of each other) should be 1.0 to represent the entire set of bananas falling in that group. A skeleton code is shown below as an example. properly label your x-axis, y-axis, and x-ticks, and place a legend to denote the colors."
   ]
  },
  {
   "cell_type": "code",
   "execution_count": 45,
   "metadata": {
    "scrolled": false
   },
   "outputs": [
    {
     "data": {
      "image/png": "[encoded data removed]",
      "text/plain": [
       "Figure(PyObject <Figure size 640x480 with 1 Axes>)"
      ]
     },
     "metadata": {},
     "output_type": "display_data"
    },
    {
     "data": {
      "text/plain": [
       "PyObject <matplotlib.legend.Legend object at 0x00000000296B9668>"
      ]
     },
     "execution_count": 45,
     "metadata": {},
     "output_type": "execute_result"
    }
   ],
   "source": [
    "figure()\n",
    "labels_gene = unique(df[!, :gene_x])\n",
    "labels = unique(df[!, :outcome])\n",
    "xticks(1:length(labels_gene), labels_gene)\n",
    "ylabel(\"Percentage\")\n",
    "title(\"Percentage of Bananas infected and not infected\")\n",
    "bar(1:2, [p_infected[1], p_infected[2]], label = labels[2])\n",
    "bar(1:2, [p_not_infected[1], p_not_infected[2]], bottom=[p_infected[1], p_infected[2]], label = labels[1])\n",
    "# bar(1:2, [0.1333, 0.8666], label = labels[2])\n",
    "# bar(1:2, [0.9, 0.5], bottom=[0.1, 0.5], label = labels[1])\n",
    "legend()"
   ]
  },
  {
   "cell_type": "markdown",
   "metadata": {},
   "source": [
    "(4) Which genetic variant has the smallest proportion of infected plants? Can we conclude that this genetic variant is **certainly** more resistant to Panama disease than the other? If not, state a hypothetical but concrete reason why this outcome could be due to chance.\n",
    "\n",
    "**Response:**\n",
    "\n",
    "For this specific case, the wild type banana is more resistant to Panama disease, but we cannot conclude it is \"certainly\" more resistant with just 1 observation/test.\n",
    "\n",
    "Some reasons that could of affected the results are that the soil could of have different concentrations of the Panama disease, outside forces like insects/animals that could move soil, attacks from pest, and the plants could of just been more resistive being grown in a greenhouse. \n",
    "\n",
    "There are a lot of variants that could contribute to the spread of Panama disease and would need to conduct trails with a larger sample size and more known variables like Panama disease % in soil to conclude the results with certainty."
   ]
  },
  {
   "cell_type": "markdown",
   "metadata": {},
   "source": [
    "(5) Formally state the null hypothesis and alternative hypothesis that pertains to this experiment.\n",
    "\n",
    "Among the population of banana plants exposed to the fungus that causes Panama disease:\n",
    "\n",
    "the **null hypothesis** is that the wild type of banana will be equally as resistive to the disease just like the mutant banana group. The difference in the percentages we see above is due to chance. \n",
    "\n",
    "the **alternative hypothesis** is that the mutant banana type will act more postive or negative than the wild banana type. The distribution we see above is not due to chance. There is a direct correlation of cause and effect."
   ]
  },
  {
   "cell_type": "markdown",
   "metadata": {},
   "source": [
    "(6) Let us define and use the following test statistic, which would differ depending on whether the null or alternative hypothesis were true:\n",
    "\n",
    "**test statistic** := (proportion of plants harboring mutant gene X that were infected) - (proportion of plants harboring wild type gene X that were infected)\n",
    "\n",
    "(6a) write a function `proportion_infected` that takes in three arguments:\n",
    "* `df_banana`, a `DataFrame` where each row is a banana, with an `:outcome` column (:infected\" or \"not infected\") and another column indicating which variant of gene X (\"wild type\" or \"mutant\") that plant harbors. `df` from (1) is an example input argument.\n",
    "* `gene_x_col_name`, a `Symbol`, the name of the column in `df_banana` that indicates which gene X variant the plants harbor (\"wild type\" or \"mutant\"). so `df_banana[1, gene_x_col_name]` gives us the variant of banana 1.\n",
    "* `gene_x`, a `String`, that can be either \"wild type\" or \"mutant\"\n",
    "\n",
    "and returns the proportion of banana plants harboring `gene_x` (`=\"wild type\"` or `=\"mutant\"`) gene X that were infected by fungus."
   ]
  },
  {
   "cell_type": "code",
   "execution_count": 11,
   "metadata": {},
   "outputs": [
    {
     "data": {
      "text/plain": [
       "0.3"
      ]
     },
     "execution_count": 11,
     "metadata": {},
     "output_type": "execute_result"
    }
   ],
   "source": [
    "\"\"\"\n",
    "return the proportion of banana plants infected by the fungus that harbor a certain gene X variant\n",
    "\"\"\"\n",
    "function proportion_infected(df_banana::DataFrame, gene_x_col_name::Symbol, gene_x::String)\n",
    "    df_group = filter(df_banana -> df_banana[gene_x_col_name] == gene_x, df_banana)\n",
    "    infected = 0\n",
    "    for i in 1:size(df_group)[1]\n",
    "        testing = df_group[i, :outcome]\n",
    "        if testing == \"infected\"\n",
    "            infected += 1\n",
    "        end\n",
    "    end\n",
    "    return infected/size(df_group)[1]\n",
    "end\n",
    "\n",
    "proportion_infected(df, :gene_x, \"mutant\")"
   ]
  },
  {
   "cell_type": "markdown",
   "metadata": {},
   "source": [
    "(6b) write a function `difference_in_proportions_infected` that takes in two arguments:\n",
    "* `df_banana::DataFrame` as above\n",
    "* `gene_x_col_name::Symbol` as above\n",
    "\n",
    "and returns the test statistic. Inside this function, you should call your function from (6a) directly above, twice.\n",
    "\n",
    "compute the actual, observed (as opposed to simulated under the null hypothesis, which we will do next) test statistic of our data set using `df` from (1)."
   ]
  },
  {
   "cell_type": "code",
   "execution_count": 12,
   "metadata": {},
   "outputs": [
    {
     "data": {
      "text/plain": [
       "0.16666666666666666"
      ]
     },
     "execution_count": 12,
     "metadata": {},
     "output_type": "execute_result"
    }
   ],
   "source": [
    "\"\"\"\n",
    "p_wild_type := proportion of banana plants harboring wild type gene X infected by fungus\n",
    "p_mutant := proportion of banana plants harboring mutant gene X infected by fungus\n",
    "\n",
    "test statistic := p_mutant - p_wild_type.\n",
    "\"\"\"\n",
    "function difference_in_proportions_infected(df_banana::DataFrame, gene_x_col_name::Symbol)\n",
    "    wild_banana_infected = proportion_infected(df_banana, gene_x_col_name, \"wild type\")\n",
    "    mutant_banana_infected = proportion_infected(df_banana, gene_x_col_name, \"mutant\")\n",
    "    return mutant_banana_infected - wild_banana_infected\n",
    "end\n",
    "\n",
    "actual_difference_in_proportions_infected = difference_in_proportions_infected(df, :gene_x)"
   ]
  },
  {
   "cell_type": "markdown",
   "metadata": {},
   "source": [
    "(7) imagine we are at the beginning of the experiment where we selected 60 banana plants. at this point, we are randomly selecting which banana plants receive the genetic modification on gene X and which do not. now, simulate one repetition of the banana study, **operating under the assumption that the null hypothesis is true**, by permuting the labels in the `gene_x` column of `df`. this effectively simulates the random allocation of healthy banana plants to the two groups:\n",
    "* group A: do not receive genetic modification on gene X (wild type)\n",
    "* group B: receive genetic modification on gene X (mutant)\n",
    "\n",
    "assume that the botanist plants these banana plant seeds in exactly the same pots in the greenhouse. in this conceptual experiment, the outcome (infected vs. not) would be exactly the same **if the null hypothesis were true**, since then the genetic modification makes no difference in susceptibility to fungal infection. assign the permuted labels to be a new column in `df` called `:shuffled_gene_x`."
   ]
  },
  {
   "cell_type": "code",
   "execution_count": 13,
   "metadata": {
    "scrolled": true
   },
   "outputs": [
    {
     "data": {
      "text/html": [
       "<table class=\"data-frame\"><thead><tr><th></th><th>gene_x</th><th>outcome</th><th>shuffled_gene_x</th></tr><tr><th></th><th>String</th><th>String</th><th>String</th></tr></thead><tbody><p>6 rows × 3 columns</p><tr><th>1</th><td>wild type</td><td>not infected</td><td>mutant</td></tr><tr><th>2</th><td>wild type</td><td>infected</td><td>wild type</td></tr><tr><th>3</th><td>wild type</td><td>not infected</td><td>mutant</td></tr><tr><th>4</th><td>wild type</td><td>not infected</td><td>mutant</td></tr><tr><th>5</th><td>wild type</td><td>not infected</td><td>mutant</td></tr><tr><th>6</th><td>wild type</td><td>not infected</td><td>wild type</td></tr></tbody></table>"
      ],
      "text/latex": [
       "\\begin{tabular}{r|ccc}\n",
       "\t& gene\\_x & outcome & shuffled\\_gene\\_x\\\\\n",
       "\t\\hline\n",
       "\t& String & String & String\\\\\n",
       "\t\\hline\n",
       "\t1 & wild type & not infected & mutant \\\\\n",
       "\t2 & wild type & infected & wild type \\\\\n",
       "\t3 & wild type & not infected & mutant \\\\\n",
       "\t4 & wild type & not infected & mutant \\\\\n",
       "\t5 & wild type & not infected & mutant \\\\\n",
       "\t6 & wild type & not infected & wild type \\\\\n",
       "\\end{tabular}\n"
      ],
      "text/plain": [
       "6×3 DataFrame\n",
       "│ Row │ gene_x    │ outcome      │ shuffled_gene_x │\n",
       "│     │ \u001b[90mString\u001b[39m    │ \u001b[90mString\u001b[39m       │ \u001b[90mString\u001b[39m          │\n",
       "├─────┼───────────┼──────────────┼─────────────────┤\n",
       "│ 1   │ wild type │ not infected │ mutant          │\n",
       "│ 2   │ wild type │ infected     │ wild type       │\n",
       "│ 3   │ wild type │ not infected │ mutant          │\n",
       "│ 4   │ wild type │ not infected │ mutant          │\n",
       "│ 5   │ wild type │ not infected │ mutant          │\n",
       "│ 6   │ wild type │ not infected │ wild type       │"
      ]
     },
     "execution_count": 13,
     "metadata": {},
     "output_type": "execute_result"
    }
   ],
   "source": [
    "df[!, :shuffled_gene_x] = df[shuffle(1:nrow(df)), :gene_x]\n",
    "first(df,6)"
   ]
  },
  {
   "cell_type": "code",
   "execution_count": 14,
   "metadata": {},
   "outputs": [
    {
     "data": {
      "text/plain": [
       "0.033333333333333326"
      ]
     },
     "execution_count": 14,
     "metadata": {},
     "output_type": "execute_result"
    }
   ],
   "source": [
    "difference_in_proportions_infected(df, :shuffled_gene_x)"
   ]
  },
  {
   "cell_type": "markdown",
   "metadata": {},
   "source": [
    "(8) **operating under the assumption that the null hypothesis is true:**\n",
    "\n",
    "(8a) simulate 10,000 repetitions of the randomized banana experiment. keep track of the test statistic observed from each simulation. \n",
    "\n",
    "(8b) plot the distribution of the test statistic. make your bins for the histogram manually to ensure the bin that includes zero is centered at zero. draw a red, vertical line at the actual test statistic observed in the experiment. the mean value of the test statistic should be around zero. make sure you understand why.\n",
    "\n",
    "(8c) compute the p-value associated with our null hypothesis that you obtained from your **random permutation test**.\n",
    "\n",
    "(8d) precisely explain in a few sentences or less what this p-value represents."
   ]
  },
  {
   "cell_type": "code",
   "execution_count": 15,
   "metadata": {},
   "outputs": [
    {
     "data": {
      "text/html": [
       "<table class=\"data-frame\"><thead><tr><th></th><th>gene_x</th><th>outcome</th><th>shuffled_gene_x</th></tr><tr><th></th><th>String</th><th>String</th><th>String</th></tr></thead><tbody><p>6 rows × 3 columns</p><tr><th>1</th><td>wild type</td><td>not infected</td><td>wild type</td></tr><tr><th>2</th><td>wild type</td><td>infected</td><td>wild type</td></tr><tr><th>3</th><td>wild type</td><td>not infected</td><td>mutant</td></tr><tr><th>4</th><td>wild type</td><td>not infected</td><td>wild type</td></tr><tr><th>5</th><td>wild type</td><td>not infected</td><td>wild type</td></tr><tr><th>6</th><td>wild type</td><td>not infected</td><td>mutant</td></tr></tbody></table>"
      ],
      "text/latex": [
       "\\begin{tabular}{r|ccc}\n",
       "\t& gene\\_x & outcome & shuffled\\_gene\\_x\\\\\n",
       "\t\\hline\n",
       "\t& String & String & String\\\\\n",
       "\t\\hline\n",
       "\t1 & wild type & not infected & wild type \\\\\n",
       "\t2 & wild type & infected & wild type \\\\\n",
       "\t3 & wild type & not infected & mutant \\\\\n",
       "\t4 & wild type & not infected & wild type \\\\\n",
       "\t5 & wild type & not infected & wild type \\\\\n",
       "\t6 & wild type & not infected & mutant \\\\\n",
       "\\end{tabular}\n"
      ],
      "text/plain": [
       "6×3 DataFrame\n",
       "│ Row │ gene_x    │ outcome      │ shuffled_gene_x │\n",
       "│     │ \u001b[90mString\u001b[39m    │ \u001b[90mString\u001b[39m       │ \u001b[90mString\u001b[39m          │\n",
       "├─────┼───────────┼──────────────┼─────────────────┤\n",
       "│ 1   │ wild type │ not infected │ wild type       │\n",
       "│ 2   │ wild type │ infected     │ wild type       │\n",
       "│ 3   │ wild type │ not infected │ mutant          │\n",
       "│ 4   │ wild type │ not infected │ wild type       │\n",
       "│ 5   │ wild type │ not infected │ wild type       │\n",
       "│ 6   │ wild type │ not infected │ mutant          │"
      ]
     },
     "execution_count": 15,
     "metadata": {},
     "output_type": "execute_result"
    }
   ],
   "source": [
    "nb_sims = 10000 # number of simulations to run\n",
    "# preallocate an array of NaNs in which we will store the resulting test statistics\n",
    "differences_in_proportions_infected = [NaN for s = 1:nb_sims]\n",
    "for s = 1:nb_sims\n",
    "    # randomly permute groups = simulate random allocation of cauliflowers to groups\n",
    "    df[!, :shuffled_gene_x] = df[shuffle(1:nrow(df)), :gene_x]\n",
    "    # compute test statistic\n",
    "    differences_in_proportions_infected[s] = difference_in_proportions_infected(df, :shuffled_gene_x)\n",
    "end\n",
    "first(df,6)"
   ]
  },
  {
   "cell_type": "code",
   "execution_count": 47,
   "metadata": {},
   "outputs": [
    {
     "data": {
      "image/png": "[encoded data removed]",
      "text/plain": [
       "Figure(PyObject <Figure size 640x480 with 1 Axes>)"
      ]
     },
     "metadata": {},
     "output_type": "display_data"
    }
   ],
   "source": [
    "# manually create bin so it is centered at zero\n",
    "bins = range(minimum(differences_in_proportions_infected), stop=maximum(differences_in_proportions_infected), length = 12)\n",
    "\n",
    "figure()\n",
    "xlabel(L\"$\\mu_{wild_type} - \\mu_{mutant}$\")\n",
    "ylabel(\"# experiments\")\n",
    "title(\"distribution of the test statistic\")\n",
    "# plot the actual test statistic as a vertical line\n",
    "axvline(x=actual_difference_in_proportions_infected, color=\"C2\", label =\"actual difference\" )\n",
    "hist(differences_in_proportions_infected, bins=bins)\n",
    "legend()\n",
    "show()"
   ]
  },
  {
   "cell_type": "code",
   "execution_count": 44,
   "metadata": {},
   "outputs": [
    {
     "data": {
      "text/plain": [
       "0.1032"
      ]
     },
     "execution_count": 44,
     "metadata": {},
     "output_type": "execute_result"
    }
   ],
   "source": [
    "p_value = sum(differences_in_proportions_infected .>= actual_difference_in_proportions_infected) / nb_sims"
   ]
  },
  {
   "cell_type": "markdown",
   "metadata": {},
   "source": [
    "what is the p-value in this context? \n",
    "\n",
    "**Response:**\n",
    "\n",
    "the p-value indicates how many simulated experiments under the null hypothesis were equal or larger than the actual difference in proportions infected virus or what was observed in the actual experiment. In our case, it seems that 10% of the time we will reject the null hypothesis given it is true. "
   ]
  },
  {
   "cell_type": "markdown",
   "metadata": {},
   "source": [
    "(9) if the level of significance is set at $\\alpha=0.05$, you may have the tendency to make a bold conclusion, such as \"mutating gene X confers resistance to fungal infection\" or \"mutating gene X does not influence the susceptibility to fungal infection\". however, such \"dichotomization\" is a mis-interpretation of the p-value. we must embrace uncertainty! see [this recent article in Nature](https://www.nature.com/articles/d41586-019-00857-9) where, owing to the tendency to misinterpret p-values, some scientists call for abandoning the notion of statistical significance.\n",
    "\n",
    "> \"We are calling for a stop to the use of P values in the conventional, dichotomous way -- to decide whether a result refutes or supports a scientific hypothesis\" [source](https://www.nature.com/articles/d41586-019-00857-9)\n"
   ]
  },
  {
   "cell_type": "markdown",
   "metadata": {},
   "source": [
    "## warning\n",
    "it is very easy to follow the steps and permute the labels in the `:gene_x` column without understanding *why*. please make sure to think carefully about why you can permute the labels to simualte the experiment under the null hypothesis. also think about why you cannot simulate the experiment under the alternative hypothesis.\n",
    "\n",
    "## random note on bananas\n",
    "for those interested, [here](https://www.youtube.com/watch?v=YkI3zkQ4WBo&t) is an interesting, 20-minute YouTube documentary on the banana and how it is threatened by Panama disease."
   ]
  }
 ],
 "metadata": {
  "@webio": {
   "lastCommId": null,
   "lastKernelId": null
  },
  "kernelspec": {
   "display_name": "Julia 1.2.0",
   "language": "julia",
   "name": "julia-1.2"
  },
  "language_info": {
   "file_extension": ".jl",
   "mimetype": "application/julia",
   "name": "julia",
   "version": "1.2.0"
  }
 },
 "nbformat": 4,
 "nbformat_minor": 2
}
